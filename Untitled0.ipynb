{
  "nbformat": 4,
  "nbformat_minor": 0,
  "metadata": {
    "colab": {
      "name": "Untitled0.ipynb",
      "provenance": [],
      "include_colab_link": true
    },
    "kernelspec": {
      "name": "python3",
      "display_name": "Python 3"
    },
    "accelerator": "GPU"
  },
  "cells": [
    {
      "cell_type": "markdown",
      "metadata": {
        "id": "view-in-github",
        "colab_type": "text"
      },
      "source": [
        "<a href=\"https://colab.research.google.com/github/Abdullatif2/ASE_Project/blob/master/Untitled0.ipynb\" target=\"_parent\"><img src=\"https://colab.research.google.com/assets/colab-badge.svg\" alt=\"Open In Colab\"/></a>"
      ]
    },
    {
      "cell_type": "code",
      "metadata": {
        "id": "o-5Xl9QWhsTx",
        "colab_type": "code",
        "colab": {
          "base_uri": "https://localhost:8080/",
          "height": 34
        },
        "outputId": "c46dfb6b-c50c-4fd2-8941-3bcc3931cf02"
      },
      "source": [
        "import tensorflow_federated as tff\n",
        "import tensorflow as tf\n",
        "# Load simulation data.\n",
        "READINGS_TYPE = tff.FederatedType(tf.float32, tff.CLIENTS)\n",
        "print(READINGS_TYPE)\n"
      ],
      "execution_count": 3,
      "outputs": [
        {
          "output_type": "stream",
          "text": [
            "{float32}@CLIENTS\n"
          ],
          "name": "stdout"
        }
      ]
    },
    {
      "cell_type": "code",
      "metadata": {
        "id": "G6r6FaLsix0b",
        "colab_type": "code",
        "colab": {
          "base_uri": "https://localhost:8080/",
          "height": 973
        },
        "outputId": "334ad6bc-ae01-46de-87c9-7d967c47eb6a"
      },
      "source": [
        ""
      ],
      "execution_count": 4,
      "outputs": [
        {
          "output_type": "stream",
          "text": [
            "Collecting tensorflow_federated\n",
            "\u001b[?25l  Downloading https://files.pythonhosted.org/packages/05/28/66b5804a4797f872d43458467727499eca4125d1ba29988baf6afd98e31f/tensorflow_federated-0.8.0-py2.py3-none-any.whl (364kB)\n",
            "\u001b[K     |████████████████████████████████| 368kB 2.8MB/s \n",
            "\u001b[?25hRequirement already satisfied: portpicker in /usr/local/lib/python3.6/dist-packages (from tensorflow_federated) (1.2.0)\n",
            "Collecting attrs~=18.2 (from tensorflow_federated)\n",
            "  Downloading https://files.pythonhosted.org/packages/3a/e1/5f9023cc983f1a628a8c2fd051ad19e76ff7b142a0faf329336f9a62a514/attrs-18.2.0-py2.py3-none-any.whl\n",
            "Collecting grpcio~=1.22.0 (from tensorflow_federated)\n",
            "\u001b[?25l  Downloading https://files.pythonhosted.org/packages/9f/86/cdb263c173e736c8858ccb3e559e45eb8531bdb75ee32880e56db1b62646/grpcio-1.22.1-cp36-cp36m-manylinux1_x86_64.whl (2.2MB)\n",
            "\u001b[K     |████████████████████████████████| 2.2MB 38.9MB/s \n",
            "\u001b[?25hRequirement already satisfied: h5py~=2.6 in /usr/local/lib/python3.6/dist-packages (from tensorflow_federated) (2.8.0)\n",
            "Requirement already satisfied: cachetools~=3.1.1 in /usr/local/lib/python3.6/dist-packages (from tensorflow_federated) (3.1.1)\n",
            "Collecting tf-nightly==1.15.0.dev20190805 (from tensorflow_federated)\n",
            "\u001b[?25l  Downloading https://files.pythonhosted.org/packages/d2/19/acc4fd3ec668ed421d758902cc2b1e714f154fa197e65d15250ee63cae46/tf_nightly-1.15.0.dev20190805-cp36-cp36m-manylinux2010_x86_64.whl (107.9MB)\n",
            "\u001b[K     |████████████████████████████████| 107.9MB 1.4MB/s \n",
            "\u001b[?25hRequirement already satisfied: six~=1.10 in /usr/local/lib/python3.6/dist-packages (from tensorflow_federated) (1.12.0)\n",
            "Collecting tensorflow-model-optimization~=0.1.2 (from tensorflow_federated)\n",
            "\u001b[?25l  Downloading https://files.pythonhosted.org/packages/02/f9/6eba3e5c5bbee217d33a9babeb609bf5077381401da44fb966b4d3e3cb4d/tensorflow_model_optimization-0.1.3-py2.py3-none-any.whl (81kB)\n",
            "\u001b[K     |████████████████████████████████| 81kB 22.3MB/s \n",
            "\u001b[?25hRequirement already satisfied: numpy~=1.14 in /usr/local/lib/python3.6/dist-packages (from tensorflow_federated) (1.16.5)\n",
            "Requirement already satisfied: wheel>=0.26 in /usr/local/lib/python3.6/dist-packages (from tf-nightly==1.15.0.dev20190805->tensorflow_federated) (0.33.6)\n",
            "Requirement already satisfied: astor>=0.6.0 in /usr/local/lib/python3.6/dist-packages (from tf-nightly==1.15.0.dev20190805->tensorflow_federated) (0.8.0)\n",
            "Collecting tb-nightly<1.16.0a0,>=1.15.0a0 (from tf-nightly==1.15.0.dev20190805->tensorflow_federated)\n",
            "\u001b[?25l  Downloading https://files.pythonhosted.org/packages/cd/67/301f684e269786d65296d97ed8cae65d06864c336de8beb53f92bf84fb82/tb_nightly-1.15.0a20190911-py3-none-any.whl (3.8MB)\n",
            "\u001b[K     |████████████████████████████████| 3.8MB 25.0MB/s \n",
            "\u001b[?25hRequirement already satisfied: keras-preprocessing>=1.0.5 in /usr/local/lib/python3.6/dist-packages (from tf-nightly==1.15.0.dev20190805->tensorflow_federated) (1.1.0)\n",
            "Requirement already satisfied: keras-applications>=1.0.8 in /usr/local/lib/python3.6/dist-packages (from tf-nightly==1.15.0.dev20190805->tensorflow_federated) (1.0.8)\n",
            "Collecting tf-estimator-nightly (from tf-nightly==1.15.0.dev20190805->tensorflow_federated)\n",
            "\u001b[?25l  Downloading https://files.pythonhosted.org/packages/d3/68/9ef25954611294b326fa9b3f5292548e59c7b4848c3c142625d0e7412362/tf_estimator_nightly-2.0.0.dev2019092901-py2.py3-none-any.whl (450kB)\n",
            "\u001b[K     |████████████████████████████████| 450kB 45.6MB/s \n",
            "\u001b[?25hRequirement already satisfied: google-pasta>=0.1.6 in /usr/local/lib/python3.6/dist-packages (from tf-nightly==1.15.0.dev20190805->tensorflow_federated) (0.1.7)\n",
            "Requirement already satisfied: absl-py>=0.7.0 in /usr/local/lib/python3.6/dist-packages (from tf-nightly==1.15.0.dev20190805->tensorflow_federated) (0.8.0)\n",
            "Requirement already satisfied: opt-einsum>=2.3.2 in /usr/local/lib/python3.6/dist-packages (from tf-nightly==1.15.0.dev20190805->tensorflow_federated) (3.0.1)\n",
            "Requirement already satisfied: protobuf>=3.6.1 in /usr/local/lib/python3.6/dist-packages (from tf-nightly==1.15.0.dev20190805->tensorflow_federated) (3.7.1)\n",
            "Requirement already satisfied: termcolor>=1.1.0 in /usr/local/lib/python3.6/dist-packages (from tf-nightly==1.15.0.dev20190805->tensorflow_federated) (1.1.0)\n",
            "Requirement already satisfied: wrapt>=1.11.1 in /usr/local/lib/python3.6/dist-packages (from tf-nightly==1.15.0.dev20190805->tensorflow_federated) (1.11.2)\n",
            "Requirement already satisfied: gast>=0.2.0 in /usr/local/lib/python3.6/dist-packages (from tf-nightly==1.15.0.dev20190805->tensorflow_federated) (0.2.2)\n",
            "Collecting enum34~=1.1 (from tensorflow-model-optimization~=0.1.2->tensorflow_federated)\n",
            "  Downloading https://files.pythonhosted.org/packages/af/42/cb9355df32c69b553e72a2e28daee25d1611d2c0d9c272aa1d34204205b2/enum34-1.1.6-py3-none-any.whl\n",
            "Requirement already satisfied: werkzeug>=0.11.15 in /usr/local/lib/python3.6/dist-packages (from tb-nightly<1.16.0a0,>=1.15.0a0->tf-nightly==1.15.0.dev20190805->tensorflow_federated) (0.15.6)\n",
            "Requirement already satisfied: markdown>=2.6.8 in /usr/local/lib/python3.6/dist-packages (from tb-nightly<1.16.0a0,>=1.15.0a0->tf-nightly==1.15.0.dev20190805->tensorflow_federated) (3.1.1)\n",
            "Requirement already satisfied: setuptools>=41.0.0 in /usr/local/lib/python3.6/dist-packages (from tb-nightly<1.16.0a0,>=1.15.0a0->tf-nightly==1.15.0.dev20190805->tensorflow_federated) (41.2.0)\n",
            "\u001b[31mERROR: datascience 0.10.6 has requirement folium==0.2.1, but you'll have folium 0.8.3 which is incompatible.\u001b[0m\n",
            "Installing collected packages: attrs, grpcio, tb-nightly, tf-estimator-nightly, tf-nightly, enum34, tensorflow-model-optimization, tensorflow-federated\n",
            "  Found existing installation: attrs 19.1.0\n",
            "    Uninstalling attrs-19.1.0:\n",
            "      Successfully uninstalled attrs-19.1.0\n",
            "  Found existing installation: grpcio 1.15.0\n",
            "    Uninstalling grpcio-1.15.0:\n",
            "      Successfully uninstalled grpcio-1.15.0\n",
            "Successfully installed attrs-18.2.0 enum34-1.1.6 grpcio-1.22.1 tb-nightly-1.15.0a20190911 tensorflow-federated-0.8.0 tensorflow-model-optimization-0.1.3 tf-estimator-nightly-2.0.0.dev2019092901 tf-nightly-1.15.0.dev20190805\n"
          ],
          "name": "stdout"
        },
        {
          "output_type": "display_data",
          "data": {
            "application/vnd.colab-display-data+json": {
              "pip_warning": {
                "packages": [
                  "enum",
                  "grpc"
                ]
              }
            }
          },
          "metadata": {
            "tags": []
          }
        }
      ]
    }
  ]
}